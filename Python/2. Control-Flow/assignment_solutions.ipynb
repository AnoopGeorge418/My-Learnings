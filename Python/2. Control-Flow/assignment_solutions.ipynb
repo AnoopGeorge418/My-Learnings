{
 "cells": [
  {
   "cell_type": "markdown",
   "metadata": {},
   "source": [
    "# Module 2: Control Flow Assignments\n",
    "\n",
    "## Lesson 2.1: Conditional Statements\n",
    "### Assignment 1: Simple if Statement\n",
    "\n",
    "Write a program that asks the user to input a number and prints whether the number is positive."
   ]
  },
  {
   "cell_type": "code",
   "execution_count": 4,
   "metadata": {},
   "outputs": [
    {
     "name": "stdout",
     "output_type": "stream",
     "text": [
      "Positive\n"
     ]
    }
   ],
   "source": [
    "number = int(input('Number: '))\n",
    "if number > 0:\n",
    "    print('Positive')"
   ]
  },
  {
   "cell_type": "markdown",
   "metadata": {},
   "source": [
    "### Assignment 2: if-else Statement\n",
    "\n",
    "Write a program that asks the user to input a number and prints whether the number is positive or negative."
   ]
  },
  {
   "cell_type": "code",
   "execution_count": 6,
   "metadata": {},
   "outputs": [
    {
     "name": "stdout",
     "output_type": "stream",
     "text": [
      "Negative\n"
     ]
    }
   ],
   "source": [
    "number = int(input('Number: '))\n",
    "if number > 0:\n",
    "    print('Positive')\n",
    "elif number < 0:\n",
    "    print('Negative')"
   ]
  },
  {
   "cell_type": "markdown",
   "metadata": {},
   "source": [
    "### Assignment 3: if-elif-else Statement\n",
    "\n",
    "Write a program that asks the user to input a number and prints whether the number is positive, negative, or zero."
   ]
  },
  {
   "cell_type": "code",
   "execution_count": 7,
   "metadata": {},
   "outputs": [
    {
     "name": "stdout",
     "output_type": "stream",
     "text": [
      "Zero\n"
     ]
    }
   ],
   "source": [
    "number = int(input('Number: '))\n",
    "if number > 0:\n",
    "    print('Positive')\n",
    "elif number < 0:\n",
    "    print('Negative')\n",
    "else:\n",
    "    print('Zero')"
   ]
  },
  {
   "cell_type": "markdown",
   "metadata": {},
   "source": [
    "### Assignment 4: Nested if Statement\n",
    "\n",
    "Write a program that asks the user to input a number and prints whether the number is positive and even, positive and odd, or negative."
   ]
  },
  {
   "cell_type": "code",
   "execution_count": 21,
   "metadata": {},
   "outputs": [
    {
     "name": "stdout",
     "output_type": "stream",
     "text": [
      "negative\n"
     ]
    }
   ],
   "source": [
    "number = int(input('Number: '))\n",
    "if number > 0 and number % 2 == 0:\n",
    "    print('Positive and even')\n",
    "elif number > 0 and number % 2 != 0:\n",
    "    print('Positive and odd')\n",
    "else:\n",
    "    print('negative')"
   ]
  },
  {
   "cell_type": "markdown",
   "metadata": {},
   "source": [
    "## Lesson 2.2: Loops\n",
    "### Assignment 5: for Loop\n",
    "\n",
    "Write a program that prints all the numbers from 1 to 10 using a for loop."
   ]
  },
  {
   "cell_type": "code",
   "execution_count": 22,
   "metadata": {},
   "outputs": [
    {
     "name": "stdout",
     "output_type": "stream",
     "text": [
      "1\n",
      "2\n",
      "3\n",
      "4\n",
      "5\n",
      "6\n",
      "7\n",
      "8\n",
      "9\n",
      "10\n"
     ]
    }
   ],
   "source": [
    "for i in range(1, 11):\n",
    "    print(i)"
   ]
  },
  {
   "cell_type": "markdown",
   "metadata": {},
   "source": [
    "### Assignment 6: while Loop\n",
    "\n",
    "Write a program that prints all the numbers from 1 to 10 using a while loop."
   ]
  },
  {
   "cell_type": "code",
   "execution_count": 30,
   "metadata": {},
   "outputs": [
    {
     "name": "stdout",
     "output_type": "stream",
     "text": [
      "1\n",
      "2\n",
      "3\n",
      "4\n",
      "5\n",
      "6\n",
      "7\n",
      "8\n",
      "9\n",
      "10\n"
     ]
    }
   ],
   "source": [
    "i = 1\n",
    "\n",
    "while i <= 10:\n",
    "    print(i)\n",
    "    i += 1"
   ]
  },
  {
   "cell_type": "markdown",
   "metadata": {},
   "source": [
    "### Assignment 7: Nested Loops\n",
    "\n",
    "Write a program that prints a 5x5 grid of asterisks (*) using nested loops."
   ]
  },
  {
   "cell_type": "code",
   "execution_count": 5,
   "metadata": {},
   "outputs": [
    {
     "name": "stdout",
     "output_type": "stream",
     "text": [
      "*****\n",
      "*****\n",
      "*****\n",
      "*****\n",
      "*****\n"
     ]
    }
   ],
   "source": [
    "for i in range(1, 6):\n",
    "    print('*' * 5)"
   ]
  },
  {
   "cell_type": "markdown",
   "metadata": {},
   "source": [
    "### Assignment 8: break Statement\n",
    "\n",
    "Write a program that asks the user to input numbers until they input 0. The program should print the sum of all the input numbers."
   ]
  },
  {
   "cell_type": "code",
   "execution_count": 13,
   "metadata": {},
   "outputs": [
    {
     "name": "stdout",
     "output_type": "stream",
     "text": [
      "6\n",
      "7\n",
      "8\n",
      "9\n",
      "5\n",
      "3\n",
      "2\n",
      "1\n",
      "-1\n"
     ]
    }
   ],
   "source": [
    "i = 1\n",
    "while  i > 0 or i < 0:\n",
    "    ask = int(input('Number: '))\n",
    "    if ask == 0:\n",
    "        break\n",
    "    else:\n",
    "        print(ask)"
   ]
  },
  {
   "cell_type": "markdown",
   "metadata": {},
   "source": [
    "### Assignment 9: continue Statement\n",
    "\n",
    "Write a program that prints all the numbers from 1 to 10 except 5 using a for loop and continue statement."
   ]
  },
  {
   "cell_type": "code",
   "execution_count": 14,
   "metadata": {},
   "outputs": [
    {
     "name": "stdout",
     "output_type": "stream",
     "text": [
      "1\n",
      "2\n",
      "3\n",
      "4\n",
      "6\n",
      "7\n",
      "8\n",
      "9\n",
      "10\n"
     ]
    }
   ],
   "source": [
    "for i in range(1, 11):\n",
    "    if i == 5:\n",
    "        continue\n",
    "    print(i)"
   ]
  },
  {
   "cell_type": "markdown",
   "metadata": {},
   "source": [
    "### Assignment 10: pass Statement\n",
    "\n",
    "Write a program that defines an empty function using the pass statement."
   ]
  },
  {
   "cell_type": "code",
   "execution_count": 16,
   "metadata": {},
   "outputs": [],
   "source": [
    "def func():\n",
    "    pass\n",
    "\n",
    "func()"
   ]
  },
  {
   "cell_type": "markdown",
   "metadata": {},
   "source": [
    "### Assignment 11: Combining Loops and Conditionals\n",
    "\n",
    "Write a program that asks the user to input a number and prints all the even numbers from 1 to that number using a for loop."
   ]
  },
  {
   "cell_type": "code",
   "execution_count": 21,
   "metadata": {},
   "outputs": [
    {
     "name": "stdout",
     "output_type": "stream",
     "text": [
      "2\n",
      "4\n",
      "6\n",
      "8\n",
      "10\n"
     ]
    }
   ],
   "source": [
    "num = int(input('Number: '))\n",
    "for i in range(1, num+1):\n",
    "    if i % 2 == 0:\n",
    "        print(i)"
   ]
  },
  {
   "cell_type": "markdown",
   "metadata": {},
   "source": [
    "### Assignment 12: Factorial Calculation\n",
    "\n",
    "Write a program that calculates the factorial of a number input by the user using a while loop."
   ]
  },
  {
   "cell_type": "code",
   "execution_count": 3,
   "metadata": {},
   "outputs": [
    {
     "name": "stdout",
     "output_type": "stream",
     "text": [
      "The factorial of 5 is 120\n"
     ]
    }
   ],
   "source": [
    "def factorial(n):\n",
    "    num = 1\n",
    "    \n",
    "    while n >= 1:\n",
    "        num *= n\n",
    "        n -= 1\n",
    "    return num\n",
    "\n",
    "# Example usage:\n",
    "user_input = int(input(\"Enter a positive integer: \"))\n",
    "result = factorial(user_input)\n",
    "print(f\"The factorial of {user_input} is {result}\")"
   ]
  },
  {
   "cell_type": "markdown",
   "metadata": {},
   "source": [
    "### Assignment 13: Sum of Digits\n",
    "\n",
    "Write a program that calculates the sum of the digits of a number input by the user using a while loop."
   ]
  },
  {
   "cell_type": "code",
   "execution_count": 5,
   "metadata": {},
   "outputs": [
    {
     "name": "stdout",
     "output_type": "stream",
     "text": [
      "Sum of the digits: 9\n"
     ]
    }
   ],
   "source": [
    "number = int(input(\"Please enter a positive integer: \"))\n",
    "digit_sum = 0\n",
    "\n",
    "while number > 0:\n",
    "    last_digit = number % 10\n",
    "    digit_sum += last_digit\n",
    "    number //= 10\n",
    "\n",
    "print(f\"Sum of the digits: {digit_sum}\")"
   ]
  },
  {
   "cell_type": "markdown",
   "metadata": {},
   "source": [
    "### Assignment 14: Prime Number Check\n",
    "\n",
    "Write a program that checks if a number input by the user is a prime number using a for loop."
   ]
  },
  {
   "cell_type": "code",
   "execution_count": 6,
   "metadata": {},
   "outputs": [
    {
     "name": "stdout",
     "output_type": "stream",
     "text": [
      "5 is a prime number\n"
     ]
    }
   ],
   "source": [
    "num = int(input(\"Enter a number: \"))\n",
    "flag = False\n",
    "\n",
    "if num <= 1:\n",
    "    print(f\"{num} is not a prime number\")\n",
    "else:\n",
    "    for i in range(2, num):\n",
    "        if num % i == 0:\n",
    "            flag = True\n",
    "            break\n",
    "\n",
    "    if flag:\n",
    "        print(f\"{num} is not a prime number\")\n",
    "    else:\n",
    "        print(f\"{num} is a prime number\")"
   ]
  },
  {
   "cell_type": "markdown",
   "metadata": {},
   "source": [
    "### Assignment 15: Fibonacci Sequence\n",
    "\n",
    "Write a program that prints the first n Fibonacci numbers, where n is input by the user."
   ]
  },
  {
   "cell_type": "code",
   "execution_count": 7,
   "metadata": {},
   "outputs": [
    {
     "name": "stdout",
     "output_type": "stream",
     "text": [
      "0 1 1 2 3 5 "
     ]
    }
   ],
   "source": [
    "def fibonacci_while_loop(n):\n",
    "    a, b = 0, 1\n",
    "    while a <= n:\n",
    "        print(a, end=' ')\n",
    "        a, b = b, a + b\n",
    "\n",
    "# Example usage:\n",
    "user_input = int(input(\"Enter the value of n: \"))\n",
    "fibonacci_while_loop(user_input)"
   ]
  },
  {
   "cell_type": "code",
   "execution_count": null,
   "id": "7eacedba",
   "metadata": {},
   "outputs": [],
   "source": []
  }
 ],
 "metadata": {
  "kernelspec": {
   "display_name": "Python 3",
   "language": "python",
   "name": "python3"
  },
  "language_info": {
   "codemirror_mode": {
    "name": "ipython",
    "version": 3
   },
   "file_extension": ".py",
   "mimetype": "text/x-python",
   "name": "python",
   "nbconvert_exporter": "python",
   "pygments_lexer": "ipython3",
   "version": "3.12.4"
  }
 },
 "nbformat": 4,
 "nbformat_minor": 5
}
