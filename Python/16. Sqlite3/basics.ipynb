{
 "cells": [
  {
   "cell_type": "code",
   "execution_count": 1,
   "metadata": {},
   "outputs": [],
   "source": [
    "import sqlite3"
   ]
  },
  {
   "cell_type": "code",
   "execution_count": 2,
   "metadata": {},
   "outputs": [
    {
     "data": {
      "text/plain": [
       "<sqlite3.Connection at 0x18de2315120>"
      ]
     },
     "execution_count": 2,
     "metadata": {},
     "output_type": "execute_result"
    }
   ],
   "source": [
    "# Connecting to database\n",
    "connection = sqlite3.connect('example.db')\n",
    "connection"
   ]
  },
  {
   "cell_type": "code",
   "execution_count": 3,
   "metadata": {},
   "outputs": [],
   "source": [
    "cursor = connection.cursor()"
   ]
  },
  {
   "cell_type": "code",
   "execution_count": 4,
   "metadata": {},
   "outputs": [],
   "source": [
    "# Creating table\n",
    "cursor.execute('''\n",
    "        Create Table if Not Exists employee(\n",
    "            id Integer Primary Key, \n",
    "            name Text Not Null,\n",
    "            age Integer,\n",
    "            department Text\n",
    "        )\n",
    "    ''')\n",
    "\n",
    "# commit the changes\n",
    "connection.commit()"
   ]
  },
  {
   "cell_type": "code",
   "execution_count": 5,
   "metadata": {},
   "outputs": [
    {
     "data": {
      "text/plain": [
       "<sqlite3.Cursor at 0x18de23412c0>"
      ]
     },
     "execution_count": 5,
     "metadata": {},
     "output_type": "execute_result"
    }
   ],
   "source": [
    "cursor.execute('''\n",
    "        Select * From employee\n",
    "    ''')"
   ]
  },
  {
   "cell_type": "code",
   "execution_count": 6,
   "metadata": {},
   "outputs": [],
   "source": [
    "# Inserting data\n",
    "cursor.execute('''\n",
    "        Insert Into employee Values\n",
    "            (1, 'Anoop George', 22, \"Data Scientist\"),\n",
    "            (2, 'Krish Naik', 35, \"Data Scientist Tutor\"),\n",
    "            (3, \"Jesus Christ\", 2024, \"God\")\n",
    "    ''')\n",
    "\n",
    "connection.commit()"
   ]
  },
  {
   "cell_type": "code",
   "execution_count": 7,
   "metadata": {},
   "outputs": [],
   "source": [
    "cursor.execute('''\n",
    "        Insert Into employee Values\n",
    "            (4, 'Anoop George', 22, \"Data Scientist\")\n",
    "    ''')\n",
    "\n",
    "cursor.execute('''\n",
    "        Insert Into employee Values\n",
    "            (5, 'Anoop George', 22, \"Data Scientist\")\n",
    "    ''')\n",
    "\n",
    "cursor.execute('''\n",
    "        Insert Into employee Values\n",
    "            (6, 'Anoop George', 22, \"Data Scientist\")\n",
    "    ''')\n",
    "\n",
    "\n",
    "connection.commit()"
   ]
  },
  {
   "cell_type": "code",
   "execution_count": 8,
   "metadata": {},
   "outputs": [
    {
     "data": {
      "text/plain": [
       "[(1, 'Anoop George', 22, 'Data Scientist'),\n",
       " (2, 'Krish Naik', 35, 'Data Scientist Tutor'),\n",
       " (3, 'Jesus Christ', 2024, 'God'),\n",
       " (4, 'Anoop George', 22, 'Data Scientist'),\n",
       " (5, 'Anoop George', 22, 'Data Scientist'),\n",
       " (6, 'Anoop George', 22, 'Data Scientist')]"
      ]
     },
     "execution_count": 8,
     "metadata": {},
     "output_type": "execute_result"
    }
   ],
   "source": [
    "cursor.execute('''\n",
    "        Select * From employee\n",
    "    ''')\n",
    "rows = cursor.fetchall()\n",
    "rows"
   ]
  },
  {
   "cell_type": "code",
   "execution_count": 9,
   "metadata": {},
   "outputs": [],
   "source": [
    "# Updating data\n",
    "cursor.execute('''\n",
    "        Update employee\n",
    "        Set age = 34\n",
    "        Where name = \"Krish Naik\"           \n",
    "    ''')\n",
    "\n",
    "connection.commit()"
   ]
  },
  {
   "cell_type": "code",
   "execution_count": 10,
   "metadata": {},
   "outputs": [
    {
     "data": {
      "text/plain": [
       "[(1, 'Anoop George', 22, 'Data Scientist'),\n",
       " (2, 'Krish Naik', 34, 'Data Scientist Tutor'),\n",
       " (3, 'Jesus Christ', 2024, 'God'),\n",
       " (4, 'Anoop George', 22, 'Data Scientist'),\n",
       " (5, 'Anoop George', 22, 'Data Scientist'),\n",
       " (6, 'Anoop George', 22, 'Data Scientist')]"
      ]
     },
     "execution_count": 10,
     "metadata": {},
     "output_type": "execute_result"
    }
   ],
   "source": [
    "cursor.execute('''\n",
    "        Select * From employee\n",
    "    ''')\n",
    "rows = cursor.fetchall()\n",
    "rows"
   ]
  },
  {
   "cell_type": "code",
   "execution_count": 11,
   "metadata": {},
   "outputs": [],
   "source": [
    "# Delete data\n",
    "cursor.execute('''\n",
    "        Delete From employee\n",
    "        Where id = 6           \n",
    "    ''')\n",
    "\n",
    "connection.commit()"
   ]
  },
  {
   "cell_type": "code",
   "execution_count": 12,
   "metadata": {},
   "outputs": [
    {
     "data": {
      "text/plain": [
       "[(1, 'Anoop George', 22, 'Data Scientist'),\n",
       " (2, 'Krish Naik', 34, 'Data Scientist Tutor'),\n",
       " (3, 'Jesus Christ', 2024, 'God'),\n",
       " (4, 'Anoop George', 22, 'Data Scientist'),\n",
       " (5, 'Anoop George', 22, 'Data Scientist')]"
      ]
     },
     "execution_count": 12,
     "metadata": {},
     "output_type": "execute_result"
    }
   ],
   "source": [
    "cursor.execute('''\n",
    "        Select * From employee\n",
    "    ''')\n",
    "rows = cursor.fetchall()\n",
    "rows"
   ]
  },
  {
   "cell_type": "code",
   "execution_count": 13,
   "metadata": {},
   "outputs": [],
   "source": [
    "connection.close()"
   ]
  }
 ],
 "metadata": {
  "kernelspec": {
   "display_name": "base",
   "language": "python",
   "name": "python3"
  },
  "language_info": {
   "codemirror_mode": {
    "name": "ipython",
    "version": 3
   },
   "file_extension": ".py",
   "mimetype": "text/x-python",
   "name": "python",
   "nbconvert_exporter": "python",
   "pygments_lexer": "ipython3",
   "version": "3.12.4"
  }
 },
 "nbformat": 4,
 "nbformat_minor": 2
}
