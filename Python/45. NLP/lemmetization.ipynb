{
 "cells": [
  {
   "cell_type": "code",
   "execution_count": 1,
   "metadata": {},
   "outputs": [],
   "source": [
    "s = [\"running\", \"jumps\", \"easily\", \"fishing\", \"happily\", \"cats\", \"studies\", \"playing\"]"
   ]
  },
  {
   "cell_type": "code",
   "execution_count": 2,
   "metadata": {},
   "outputs": [],
   "source": [
    "words = \"running\", \"jumps\", \"easily\", \"fishing\", \"happily\", \"cats\", \"studies\", \"playing\""
   ]
  },
  {
   "cell_type": "code",
   "execution_count": 3,
   "metadata": {},
   "outputs": [],
   "source": [
    "from nltk.stem import WordNetLemmatizer"
   ]
  },
  {
   "cell_type": "code",
   "execution_count": 4,
   "metadata": {},
   "outputs": [],
   "source": [
    "lem = WordNetLemmatizer()"
   ]
  },
  {
   "cell_type": "code",
   "execution_count": 5,
   "metadata": {},
   "outputs": [
    {
     "name": "stderr",
     "output_type": "stream",
     "text": [
      "[nltk_data] Downloading package wordnet to\n",
      "[nltk_data]     C:\\Users\\anoop\\AppData\\Roaming\\nltk_data...\n",
      "[nltk_data]   Package wordnet is already up-to-date!\n"
     ]
    },
    {
     "data": {
      "text/plain": [
       "True"
      ]
     },
     "execution_count": 5,
     "metadata": {},
     "output_type": "execute_result"
    }
   ],
   "source": [
    "import nltk\n",
    "nltk.download('wordnet')"
   ]
  },
  {
   "cell_type": "markdown",
   "metadata": {},
   "source": [
    "POS:\n",
    "- Noun - n\n",
    "- Verb - v\n",
    "- adverb - r\n",
    "- adjective - a"
   ]
  },
  {
   "cell_type": "code",
   "execution_count": 6,
   "metadata": {},
   "outputs": [
    {
     "data": {
      "text/plain": [
       "'going'"
      ]
     },
     "execution_count": 6,
     "metadata": {},
     "output_type": "execute_result"
    }
   ],
   "source": [
    "lem.lemmatize('going', pos='n')"
   ]
  },
  {
   "cell_type": "code",
   "execution_count": 7,
   "metadata": {},
   "outputs": [
    {
     "data": {
      "text/plain": [
       "'go'"
      ]
     },
     "execution_count": 7,
     "metadata": {},
     "output_type": "execute_result"
    }
   ],
   "source": [
    "lem.lemmatize('going', pos='v')"
   ]
  },
  {
   "cell_type": "code",
   "execution_count": 8,
   "metadata": {},
   "outputs": [
    {
     "data": {
      "text/plain": [
       "'going'"
      ]
     },
     "execution_count": 8,
     "metadata": {},
     "output_type": "execute_result"
    }
   ],
   "source": [
    "lem.lemmatize('going', pos='a')"
   ]
  },
  {
   "cell_type": "code",
   "execution_count": 9,
   "metadata": {},
   "outputs": [
    {
     "data": {
      "text/plain": [
       "'going'"
      ]
     },
     "execution_count": 9,
     "metadata": {},
     "output_type": "execute_result"
    }
   ],
   "source": [
    "lem.lemmatize('going', pos='r')"
   ]
  },
  {
   "cell_type": "code",
   "execution_count": 10,
   "metadata": {},
   "outputs": [
    {
     "name": "stdout",
     "output_type": "stream",
     "text": [
      "running----->running\n",
      "jumps----->jump\n",
      "easily----->easily\n",
      "fishing----->fishing\n",
      "happily----->happily\n",
      "cats----->cat\n",
      "studies----->study\n",
      "playing----->playing\n"
     ]
    }
   ],
   "source": [
    "for word in words:\n",
    "    print(word + '----->' + lem.lemmatize(word))"
   ]
  },
  {
   "cell_type": "code",
   "execution_count": 11,
   "metadata": {},
   "outputs": [
    {
     "name": "stdout",
     "output_type": "stream",
     "text": [
      "running----->running\n",
      "jumps----->jump\n",
      "easily----->easily\n",
      "fishing----->fishing\n",
      "happily----->happily\n",
      "cats----->cat\n",
      "studies----->study\n",
      "playing----->playing\n"
     ]
    }
   ],
   "source": [
    "for word in words:\n",
    "    print(word + '----->' + lem.lemmatize(word, pos='n'))"
   ]
  },
  {
   "cell_type": "code",
   "execution_count": 12,
   "metadata": {},
   "outputs": [
    {
     "name": "stdout",
     "output_type": "stream",
     "text": [
      "running----->run\n",
      "jumps----->jump\n",
      "easily----->easily\n",
      "fishing----->fish\n",
      "happily----->happily\n",
      "cats----->cat\n",
      "studies----->study\n",
      "playing----->play\n"
     ]
    }
   ],
   "source": [
    "for word in words:\n",
    "    print(word + '----->' + lem.lemmatize(word, pos = 'v'))"
   ]
  },
  {
   "cell_type": "code",
   "execution_count": 13,
   "metadata": {},
   "outputs": [],
   "source": [
    "speech = \"\"\" \n",
    "Good morning, everyone.\n",
    "\n",
    "Today, I want to talk about a topic that is incredibly important in our fast-paced, ever-changing world: the importance of continuous learning and adaptability, especially in the tech industry.\n",
    "\n",
    "We live in an era where technology evolves at an unprecedented rate. New programming languages, frameworks, and tools emerge almost daily. What was cutting-edge a year ago might be obsolete today. In such an environment, the ability to learn continuously and adapt to new circumstances is not just beneficial; it is essential.\n",
    "\n",
    "Let's start with continuous learning. The concept is simple: never stop acquiring new knowledge and skills. But in practice, it requires dedication, curiosity, and a proactive approach. Continuous learning can take many forms. It could be formal education, such as pursuing an online master's degree in computer science, which many of you might be considering. It could also be self-study through online courses, reading books, or even following industry blogs and podcasts.\n",
    "\n",
    "The benefits of continuous learning are manifold. Firstly, it keeps your skills relevant. In the tech industry, where the landscape changes rapidly, staying updated with the latest trends and technologies ensures that you remain competitive in the job market. Secondly, it opens up new opportunities. By learning new skills, you can pivot to different roles or even entirely new fields. For instance, a software developer might learn about data science and transition into a data analyst role. Finally, continuous learning fosters innovation. When you expose yourself to new ideas and perspectives, you are more likely to come up with creative solutions to problems.\n",
    "\n",
    "Now, let's talk about adaptability. While continuous learning equips you with new knowledge and skills, adaptability is about how you apply them in different situations. It is the ability to adjust your approach based on the context and the challenges you face. Adaptability is crucial because the tech industry is not just about knowing the latest technologies; it's about how you use them to solve real-world problems.\n",
    "\n",
    "Adaptability involves several key traits. One is resilience. In the tech industry, failure is often part of the process. Whether it's a project that didn't go as planned or a piece of code that didn't work, setbacks are inevitable. Being adaptable means bouncing back from these failures, learning from them, and moving forward. Another trait is flexibility. This means being open to change and willing to step out of your comfort zone. For example, you might be a backend developer, but if your team needs help with frontend work, being adaptable means you are willing to learn and contribute.\n",
    "\n",
    "Moreover, adaptability requires a growth mindset. This is the belief that your abilities and intelligence can be developed through hard work, good strategies, and input from others. A growth mindset encourages you to embrace challenges, persist in the face of setbacks, and see effort as a path to mastery. It is the foundation of both continuous learning and adaptability.\n",
    "\n",
    "So, how can you cultivate continuous learning and adaptability? Here are a few practical tips:\n",
    "\n",
    "1. **Set Learning Goals**: Identify areas where you want to improve or new skills you want to acquire. Set specific, measurable, achievable, relevant, and time-bound (SMART) goals to guide your learning journey.\n",
    "\n",
    "2. **Create a Learning Plan**: Once you have your goals, create a plan to achieve them. This could include enrolling in courses, reading books, or dedicating a certain amount of time each week to learning.\n",
    "\n",
    "3. **Stay Curious**: Cultivate a curious mindset. Ask questions, seek out new experiences, and be open to learning from others. Curiosity drives continuous learning and helps you stay engaged.\n",
    "\n",
    "4. **Embrace Challenges**: Don't shy away from difficult tasks or projects. Embrace them as opportunities to learn and grow. Remember, challenges are what make you stronger and more adaptable.\n",
    "\n",
    "5. **Reflect and Adapt**: Regularly reflect on your experiences and what you've learned. Use this reflection to adapt your approach and improve. This could be through journaling, discussing with peers, or seeking feedback from mentors.\n",
    "\n",
    "6. **Network and Collaborate**: Engage with others in your field. Join professional groups, attend conferences, and participate in online forums. Networking exposes you to new ideas and perspectives, and collaboration helps you learn from others.\n",
    "\n",
    "7. **Stay Updated**: Follow industry news, blogs, and podcasts. Staying informed about the latest trends and developments ensures that your knowledge remains current.\n",
    "\n",
    "8. **Practice Self-Care**: Continuous learning and adaptability require energy and focus. Take care of your physical and mental health to maintain the stamina needed for lifelong learning.\n",
    "\n",
    "In conclusion, continuous learning and adaptability are not just skills; they are mindsets. They require a commitment to growth, a willingness to embrace change, and the resilience to overcome challenges. In the tech industry, where the only constant is change, these traits are invaluable. By cultivating continuous learning and adaptability, you not only enhance your career prospects but also contribute to the innovation and progress of the industry as a whole.\n",
    "\n",
    "Thank you.\n",
    "\"\"\""
   ]
  },
  {
   "cell_type": "code",
   "execution_count": 14,
   "metadata": {},
   "outputs": [],
   "source": [
    "from nltk.stem import PorterStemmer\n",
    "from nltk.corpus import stopwords\n",
    "import nltk"
   ]
  },
  {
   "cell_type": "code",
   "execution_count": 15,
   "metadata": {},
   "outputs": [
    {
     "name": "stderr",
     "output_type": "stream",
     "text": [
      "[nltk_data] Downloading package stopwords to\n",
      "[nltk_data]     C:\\Users\\anoop\\AppData\\Roaming\\nltk_data...\n",
      "[nltk_data]   Package stopwords is already up-to-date!\n"
     ]
    },
    {
     "data": {
      "text/plain": [
       "True"
      ]
     },
     "execution_count": 15,
     "metadata": {},
     "output_type": "execute_result"
    }
   ],
   "source": [
    "nltk.download('stopwords')"
   ]
  },
  {
   "cell_type": "code",
   "execution_count": 16,
   "metadata": {},
   "outputs": [
    {
     "data": {
      "text/plain": [
       "['i',\n",
       " 'me',\n",
       " 'my',\n",
       " 'myself',\n",
       " 'we',\n",
       " 'our',\n",
       " 'ours',\n",
       " 'ourselves',\n",
       " 'you',\n",
       " \"you're\",\n",
       " \"you've\",\n",
       " \"you'll\",\n",
       " \"you'd\",\n",
       " 'your',\n",
       " 'yours',\n",
       " 'yourself',\n",
       " 'yourselves',\n",
       " 'he',\n",
       " 'him',\n",
       " 'his',\n",
       " 'himself',\n",
       " 'she',\n",
       " \"she's\",\n",
       " 'her',\n",
       " 'hers',\n",
       " 'herself',\n",
       " 'it',\n",
       " \"it's\",\n",
       " 'its',\n",
       " 'itself',\n",
       " 'they',\n",
       " 'them',\n",
       " 'their',\n",
       " 'theirs',\n",
       " 'themselves',\n",
       " 'what',\n",
       " 'which',\n",
       " 'who',\n",
       " 'whom',\n",
       " 'this',\n",
       " 'that',\n",
       " \"that'll\",\n",
       " 'these',\n",
       " 'those',\n",
       " 'am',\n",
       " 'is',\n",
       " 'are',\n",
       " 'was',\n",
       " 'were',\n",
       " 'be',\n",
       " 'been',\n",
       " 'being',\n",
       " 'have',\n",
       " 'has',\n",
       " 'had',\n",
       " 'having',\n",
       " 'do',\n",
       " 'does',\n",
       " 'did',\n",
       " 'doing',\n",
       " 'a',\n",
       " 'an',\n",
       " 'the',\n",
       " 'and',\n",
       " 'but',\n",
       " 'if',\n",
       " 'or',\n",
       " 'because',\n",
       " 'as',\n",
       " 'until',\n",
       " 'while',\n",
       " 'of',\n",
       " 'at',\n",
       " 'by',\n",
       " 'for',\n",
       " 'with',\n",
       " 'about',\n",
       " 'against',\n",
       " 'between',\n",
       " 'into',\n",
       " 'through',\n",
       " 'during',\n",
       " 'before',\n",
       " 'after',\n",
       " 'above',\n",
       " 'below',\n",
       " 'to',\n",
       " 'from',\n",
       " 'up',\n",
       " 'down',\n",
       " 'in',\n",
       " 'out',\n",
       " 'on',\n",
       " 'off',\n",
       " 'over',\n",
       " 'under',\n",
       " 'again',\n",
       " 'further',\n",
       " 'then',\n",
       " 'once',\n",
       " 'here',\n",
       " 'there',\n",
       " 'when',\n",
       " 'where',\n",
       " 'why',\n",
       " 'how',\n",
       " 'all',\n",
       " 'any',\n",
       " 'both',\n",
       " 'each',\n",
       " 'few',\n",
       " 'more',\n",
       " 'most',\n",
       " 'other',\n",
       " 'some',\n",
       " 'such',\n",
       " 'no',\n",
       " 'nor',\n",
       " 'not',\n",
       " 'only',\n",
       " 'own',\n",
       " 'same',\n",
       " 'so',\n",
       " 'than',\n",
       " 'too',\n",
       " 'very',\n",
       " 's',\n",
       " 't',\n",
       " 'can',\n",
       " 'will',\n",
       " 'just',\n",
       " 'don',\n",
       " \"don't\",\n",
       " 'should',\n",
       " \"should've\",\n",
       " 'now',\n",
       " 'd',\n",
       " 'll',\n",
       " 'm',\n",
       " 'o',\n",
       " 're',\n",
       " 've',\n",
       " 'y',\n",
       " 'ain',\n",
       " 'aren',\n",
       " \"aren't\",\n",
       " 'couldn',\n",
       " \"couldn't\",\n",
       " 'didn',\n",
       " \"didn't\",\n",
       " 'doesn',\n",
       " \"doesn't\",\n",
       " 'hadn',\n",
       " \"hadn't\",\n",
       " 'hasn',\n",
       " \"hasn't\",\n",
       " 'haven',\n",
       " \"haven't\",\n",
       " 'isn',\n",
       " \"isn't\",\n",
       " 'ma',\n",
       " 'mightn',\n",
       " \"mightn't\",\n",
       " 'mustn',\n",
       " \"mustn't\",\n",
       " 'needn',\n",
       " \"needn't\",\n",
       " 'shan',\n",
       " \"shan't\",\n",
       " 'shouldn',\n",
       " \"shouldn't\",\n",
       " 'wasn',\n",
       " \"wasn't\",\n",
       " 'weren',\n",
       " \"weren't\",\n",
       " 'won',\n",
       " \"won't\",\n",
       " 'wouldn',\n",
       " \"wouldn't\"]"
      ]
     },
     "execution_count": 16,
     "metadata": {},
     "output_type": "execute_result"
    }
   ],
   "source": [
    "stopwords.words('english')"
   ]
  },
  {
   "cell_type": "code",
   "execution_count": 17,
   "metadata": {},
   "outputs": [],
   "source": [
    "stem = PorterStemmer()"
   ]
  },
  {
   "cell_type": "code",
   "execution_count": 18,
   "metadata": {},
   "outputs": [],
   "source": [
    "sentences = nltk.sent_tokenize(speech)"
   ]
  },
  {
   "cell_type": "markdown",
   "metadata": {},
   "source": [
    "# Apply stopwords and filter and then apply stemming"
   ]
  },
  {
   "cell_type": "code",
   "execution_count": 19,
   "metadata": {},
   "outputs": [],
   "source": [
    "for i in range(len(sentences)):\n",
    "    words = nltk.word_tokenize(sentences[i])\n",
    "    words = [stem.stem(word) for word in words if word not in set(stopwords.words('english'))]\n",
    "    sentences[i] = ' '.join(words)"
   ]
  },
  {
   "cell_type": "code",
   "execution_count": 20,
   "metadata": {},
   "outputs": [
    {
     "data": {
      "text/plain": [
       "['good morn , everyon .',\n",
       " 'today , i want talk topic incred import fast-pac , ever-chang world : import continu learn adapt , especi tech industri .',\n",
       " 'we live era technolog evolv unpreced rate .',\n",
       " 'new program languag , framework , tool emerg almost daili .',\n",
       " 'what cutting-edg year ago might obsolet today .',\n",
       " 'in environ , abil learn continu adapt new circumst benefici ; essenti .',\n",
       " \"let 's start continu learn .\",\n",
       " 'the concept simpl : never stop acquir new knowledg skill .',\n",
       " 'but practic , requir dedic , curios , proactiv approach .',\n",
       " 'continu learn take mani form .',\n",
       " \"it could formal educ , pursu onlin master 's degre comput scienc , mani might consid .\",\n",
       " 'it could also self-studi onlin cours , read book , even follow industri blog podcast .',\n",
       " 'the benefit continu learn manifold .',\n",
       " 'firstli , keep skill relev .',\n",
       " 'in tech industri , landscap chang rapidli , stay updat latest trend technolog ensur remain competit job market .',\n",
       " 'secondli , open new opportun .',\n",
       " 'by learn new skill , pivot differ role even entir new field .',\n",
       " 'for instanc , softwar develop might learn data scienc transit data analyst role .',\n",
       " 'final , continu learn foster innov .',\n",
       " 'when expos new idea perspect , like come creativ solut problem .',\n",
       " \"now , let 's talk adapt .\",\n",
       " 'while continu learn equip new knowledg skill , adapt appli differ situat .',\n",
       " 'it abil adjust approach base context challeng face .',\n",
       " \"adapt crucial tech industri know latest technolog ; 's use solv real-world problem .\",\n",
       " 'adapt involv sever key trait .',\n",
       " 'one resili .',\n",
       " 'in tech industri , failur often part process .',\n",
       " \"whether 's project n't go plan piec code n't work , setback inevit .\",\n",
       " 'be adapt mean bounc back failur , learn , move forward .',\n",
       " 'anoth trait flexibl .',\n",
       " 'thi mean open chang will step comfort zone .',\n",
       " 'for exampl , might backend develop , team need help frontend work , adapt mean will learn contribut .',\n",
       " 'moreov , adapt requir growth mindset .',\n",
       " 'thi belief abil intellig develop hard work , good strategi , input other .',\n",
       " 'a growth mindset encourag embrac challeng , persist face setback , see effort path masteri .',\n",
       " 'it foundat continu learn adapt .',\n",
       " 'so , cultiv continu learn adapt ?',\n",
       " 'here practic tip : 1 .',\n",
       " '* * set learn goal * * : identifi area want improv new skill want acquir .',\n",
       " 'set specif , measur , achiev , relev , time-bound ( smart ) goal guid learn journey .',\n",
       " '2 .',\n",
       " '* * creat learn plan * * : onc goal , creat plan achiev .',\n",
       " 'thi could includ enrol cours , read book , dedic certain amount time week learn .',\n",
       " '3 .',\n",
       " '* * stay curiou * * : cultiv curiou mindset .',\n",
       " 'ask question , seek new experi , open learn other .',\n",
       " 'curios drive continu learn help stay engag .',\n",
       " '4 .',\n",
       " \"* * embrac challeng * * : do n't shi away difficult task project .\",\n",
       " 'embrac opportun learn grow .',\n",
       " 'rememb , challeng make stronger adapt .',\n",
       " '5 .',\n",
       " \"* * reflect adapt * * : regularli reflect experi 've learn .\",\n",
       " 'use reflect adapt approach improv .',\n",
       " 'thi could journal , discuss peer , seek feedback mentor .',\n",
       " '6 .',\n",
       " '* * network collabor * * : engag other field .',\n",
       " 'join profession group , attend confer , particip onlin forum .',\n",
       " 'network expos new idea perspect , collabor help learn other .',\n",
       " '7 .',\n",
       " '* * stay updat * * : follow industri news , blog , podcast .',\n",
       " 'stay inform latest trend develop ensur knowledg remain current .',\n",
       " '8 .',\n",
       " '* * practic self-car * * : continu learn adapt requir energi focu .',\n",
       " 'take care physic mental health maintain stamina need lifelong learn .',\n",
       " 'in conclus , continu learn adapt skill ; mindset .',\n",
       " 'they requir commit growth , willing embrac chang , resili overcom challeng .',\n",
       " 'in tech industri , constant chang , trait invalu .',\n",
       " 'by cultiv continu learn adapt , enhanc career prospect also contribut innov progress industri whole .',\n",
       " 'thank .']"
      ]
     },
     "execution_count": 20,
     "metadata": {},
     "output_type": "execute_result"
    }
   ],
   "source": [
    "sentences"
   ]
  },
  {
   "cell_type": "code",
   "execution_count": 21,
   "metadata": {},
   "outputs": [],
   "source": [
    "from nltk.stem import WordNetLemmatizer"
   ]
  },
  {
   "cell_type": "code",
   "execution_count": 22,
   "metadata": {},
   "outputs": [],
   "source": [
    "lem = WordNetLemmatizer()"
   ]
  },
  {
   "cell_type": "code",
   "execution_count": 23,
   "metadata": {},
   "outputs": [],
   "source": [
    "for i in range(len(sentences)):\n",
    "    words = nltk.word_tokenize(sentences[i])\n",
    "    words = [lem.lemmatize(word, pos = 'v') for word in words if word not in set(stopwords.words('english'))]\n",
    "    sentences[i] = ' '.join(words)"
   ]
  },
  {
   "cell_type": "code",
   "execution_count": 24,
   "metadata": {},
   "outputs": [
    {
     "data": {
      "text/plain": [
       "['good morn , everyon .',\n",
       " 'today , want talk topic incred import fast-pac , ever-chang world : import continu learn adapt , especi tech industri .',\n",
       " 'live era technolog evolv unpreced rate .',\n",
       " 'new program languag , framework , tool emerg almost daili .',\n",
       " 'cutting-edg year ago might obsolet today .',\n",
       " 'environ , abil learn continu adapt new circumst benefici ; essenti .',\n",
       " \"let 's start continu learn .\",\n",
       " 'concept simpl : never stop acquir new knowledg skill .',\n",
       " 'practic , requir dedic , curios , proactiv approach .',\n",
       " 'continu learn take mani form .',\n",
       " \"could formal educ , pursu onlin master 's degre comput scienc , mani might consid .\",\n",
       " 'could also self-studi onlin cours , read book , even follow industri blog podcast .',\n",
       " 'benefit continu learn manifold .',\n",
       " 'firstli , keep skill relev .',\n",
       " 'tech industri , landscap chang rapidli , stay updat latest trend technolog ensur remain competit job market .',\n",
       " 'secondli , open new opportun .',\n",
       " 'learn new skill , pivot differ role even entir new field .',\n",
       " 'instanc , softwar develop might learn data scienc transit data analyst role .',\n",
       " 'final , continu learn foster innov .',\n",
       " 'expos new idea perspect , like come creativ solut problem .',\n",
       " \", let 's talk adapt .\",\n",
       " 'continu learn equip new knowledg skill , adapt appli differ situat .',\n",
       " 'abil adjust approach base context challeng face .',\n",
       " \"adapt crucial tech industri know latest technolog ; 's use solv real-world problem .\",\n",
       " 'adapt involv sever key trait .',\n",
       " 'one resili .',\n",
       " 'tech industri , failur often part process .',\n",
       " \"whether 's project n't go plan piec code n't work , setback inevit .\",\n",
       " 'adapt mean bounc back failur , learn , move forward .',\n",
       " 'anoth trait flexibl .',\n",
       " 'thi mean open chang step comfort zone .',\n",
       " 'exampl , might backend develop , team need help frontend work , adapt mean learn contribut .',\n",
       " 'moreov , adapt requir growth mindset .',\n",
       " 'thi belief abil intellig develop hard work , good strategi , input .',\n",
       " 'growth mindset encourag embrac challeng , persist face setback , see effort path masteri .',\n",
       " 'foundat continu learn adapt .',\n",
       " ', cultiv continu learn adapt ?',\n",
       " 'practic tip : 1 .',\n",
       " '* * set learn goal * * : identifi area want improv new skill want acquir .',\n",
       " 'set specif , measur , achiev , relev , time-bound ( smart ) goal guid learn journey .',\n",
       " '2 .',\n",
       " '* * creat learn plan * * : onc goal , creat plan achiev .',\n",
       " 'thi could includ enrol cours , read book , dedic certain amount time week learn .',\n",
       " '3 .',\n",
       " '* * stay curiou * * : cultiv curiou mindset .',\n",
       " 'ask question , seek new experi , open learn .',\n",
       " 'curios drive continu learn help stay engag .',\n",
       " '4 .',\n",
       " \"* * embrac challeng * * : n't shi away difficult task project .\",\n",
       " 'embrac opportun learn grow .',\n",
       " 'rememb , challeng make stronger adapt .',\n",
       " '5 .',\n",
       " \"* * reflect adapt * * : regularli reflect experi 've learn .\",\n",
       " 'use reflect adapt approach improv .',\n",
       " 'thi could journal , discuss peer , seek feedback mentor .',\n",
       " '6 .',\n",
       " '* * network collabor * * : engag field .',\n",
       " 'join profession group , attend confer , particip onlin forum .',\n",
       " 'network expos new idea perspect , collabor help learn .',\n",
       " '7 .',\n",
       " '* * stay updat * * : follow industri news , blog , podcast .',\n",
       " 'stay inform latest trend develop ensur knowledg remain current .',\n",
       " '8 .',\n",
       " '* * practic self-car * * : continu learn adapt requir energi focu .',\n",
       " 'take care physic mental health maintain stamina need lifelong learn .',\n",
       " 'conclus , continu learn adapt skill ; mindset .',\n",
       " 'requir commit growth , will embrac chang , resili overcom challeng .',\n",
       " 'tech industri , constant chang , trait invalu .',\n",
       " 'cultiv continu learn adapt , enhanc career prospect also contribut innov progress industri whole .',\n",
       " 'thank .']"
      ]
     },
     "execution_count": 24,
     "metadata": {},
     "output_type": "execute_result"
    }
   ],
   "source": [
    "sentences"
   ]
  },
  {
   "cell_type": "code",
   "execution_count": 25,
   "metadata": {},
   "outputs": [
    {
     "name": "stderr",
     "output_type": "stream",
     "text": [
      "[nltk_data] Downloading package averaged_perceptron_tagger to\n",
      "[nltk_data]     C:\\Users\\anoop\\AppData\\Roaming\\nltk_data...\n",
      "[nltk_data]   Package averaged_perceptron_tagger is already up-to-\n",
      "[nltk_data]       date!\n"
     ]
    },
    {
     "data": {
      "text/plain": [
       "True"
      ]
     },
     "execution_count": 25,
     "metadata": {},
     "output_type": "execute_result"
    }
   ],
   "source": [
    "nltk.download('averaged_perceptron_tagger')"
   ]
  },
  {
   "cell_type": "code",
   "execution_count": 26,
   "metadata": {},
   "outputs": [],
   "source": [
    "tags = nltk.pos_tag(sentences)"
   ]
  },
  {
   "cell_type": "code",
   "execution_count": 27,
   "metadata": {},
   "outputs": [
    {
     "name": "stderr",
     "output_type": "stream",
     "text": [
      "[nltk_data] Downloading package maxent_ne_chunker to\n",
      "[nltk_data]     C:\\Users\\anoop\\AppData\\Roaming\\nltk_data...\n",
      "[nltk_data]   Package maxent_ne_chunker is already up-to-date!\n"
     ]
    },
    {
     "data": {
      "text/plain": [
       "True"
      ]
     },
     "execution_count": 27,
     "metadata": {},
     "output_type": "execute_result"
    }
   ],
   "source": [
    "nltk.download('maxent_ne_chunker')"
   ]
  },
  {
   "cell_type": "code",
   "execution_count": 28,
   "metadata": {},
   "outputs": [
    {
     "name": "stderr",
     "output_type": "stream",
     "text": [
      "[nltk_data] Downloading package words to\n",
      "[nltk_data]     C:\\Users\\anoop\\AppData\\Roaming\\nltk_data...\n",
      "[nltk_data]   Package words is already up-to-date!\n"
     ]
    },
    {
     "data": {
      "text/plain": [
       "True"
      ]
     },
     "execution_count": 28,
     "metadata": {},
     "output_type": "execute_result"
    }
   ],
   "source": [
    "nltk.download('words')"
   ]
  },
  {
   "cell_type": "code",
   "execution_count": 29,
   "metadata": {},
   "outputs": [],
   "source": [
    "nltk.ne_chunk(tags).draw()"
   ]
  },
  {
   "cell_type": "code",
   "execution_count": null,
   "metadata": {},
   "outputs": [],
   "source": []
  }
 ],
 "metadata": {
  "kernelspec": {
   "display_name": "base",
   "language": "python",
   "name": "python3"
  },
  "language_info": {
   "codemirror_mode": {
    "name": "ipython",
    "version": 3
   },
   "file_extension": ".py",
   "mimetype": "text/x-python",
   "name": "python",
   "nbconvert_exporter": "python",
   "pygments_lexer": "ipython3",
   "version": "3.12.4"
  }
 },
 "nbformat": 4,
 "nbformat_minor": 2
}
