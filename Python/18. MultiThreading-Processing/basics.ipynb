{
 "cells": [
  {
   "cell_type": "markdown",
   "metadata": {},
   "source": [
    "# Muliti Threading\n",
    "- When to use it?:\n",
    "  - I/O Bound Task:\n",
    "    - Task that spends more time for I/O operations(eg: file operations, network request)\n",
    "  - Concurrent Execution:\n",
    "    - When u want to improve the throughput of your application by performing mulltiple operations concurrently."
   ]
  },
  {
   "cell_type": "code",
   "execution_count": 2,
   "metadata": {},
   "outputs": [],
   "source": [
    "import threading\n",
    "import time"
   ]
  },
  {
   "cell_type": "code",
   "execution_count": null,
   "metadata": {},
   "outputs": [],
   "source": [
    "def print_number():\n",
    "    for i in range(5):\n",
    "        print(f'Numbers: {i}')\n",
    "        \n",
    "def print_letters():\n",
    "    for letter in 'abcde':\n",
    "        print(f'Letters: {letter}')\n",
    "        \n",
    "print_number()\n",
    "print_letters()"
   ]
  }
 ],
 "metadata": {
  "kernelspec": {
   "display_name": "Python 3",
   "language": "python",
   "name": "python3"
  },
  "language_info": {
   "codemirror_mode": {
    "name": "ipython",
    "version": 3
   },
   "file_extension": ".py",
   "mimetype": "text/x-python",
   "name": "python",
   "nbconvert_exporter": "python",
   "pygments_lexer": "ipython3",
   "version": "3.12.4"
  }
 },
 "nbformat": 4,
 "nbformat_minor": 2
}
