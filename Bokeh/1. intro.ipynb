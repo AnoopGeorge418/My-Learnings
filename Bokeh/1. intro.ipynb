{
 "cells": [
  {
   "cell_type": "code",
   "execution_count": 5,
   "metadata": {},
   "outputs": [],
   "source": [
    "import pandas as pd\n",
    "import numpy as np \n",
    "import matplotlib.pyplot as plt \n",
    "import seaborn as sns \n"
   ]
  },
  {
   "cell_type": "code",
   "execution_count": 10,
   "metadata": {},
   "outputs": [],
   "source": [
    "from bokeh.plotting import figure, output_file, show\n",
    "\n",
    "output_file('demo.html')\n",
    "\n",
    "p = figure(width=800, height=400, title='Line Plot')\n",
    "p.line([1, 2, 3, 4, 5], [6, 7, 8, 9, 10], line_width=2)\n",
    "show(p)\n"
   ]
  },
  {
   "cell_type": "code",
   "execution_count": 13,
   "metadata": {},
   "outputs": [
    {
     "name": "stderr",
     "output_type": "stream",
     "text": [
      "BokehDeprecationWarning: 'circle() method with size value' was deprecated in Bokeh 3.4.0 and will be removed, use 'scatter(size=...) instead' instead.\n"
     ]
    }
   ],
   "source": [
    "p = figure(title = 'Bokeh example', x_axis_label = 'x', y_axis_label = 'y')\n",
    "x = np.linspace(0, 10, 30)\n",
    "y1 = np.sin(x)\n",
    "y2 = np.cos(x)\n",
    "p.line(x, y1, legend_label = 'y=sin(x)')\n",
    "p.circle(x, x, legend_label = 'y=x', fill_color = 'green', size = 5)\n",
    "p.line(x, y2, legend_label = 'y=cos', line_width = 3, line_color = 'red')\n",
    "show(p)"
   ]
  },
  {
   "cell_type": "code",
   "execution_count": 17,
   "metadata": {},
   "outputs": [
    {
     "name": "stderr",
     "output_type": "stream",
     "text": [
      "BokehDeprecationWarning: 'circle() method with size value' was deprecated in Bokeh 3.4.0 and will be removed, use 'scatter(size=...) instead' instead.\n",
      "BokehDeprecationWarning: 'triangle() method' was deprecated in Bokeh 3.4.0 and will be removed, use \"scatter(marker='triangle', ...) instead\" instead.\n"
     ]
    }
   ],
   "source": [
    "p = figure(width=800, height=900, title='Bokeh example', x_axis_label='x', y_axis_label='y')\n",
    "x = np.linspace(0, 10, 30)\n",
    "y1 = np.sin(x)\n",
    "y2 = np.cos(x)\n",
    "p.line(x, y1, legend_label='y=sin(x)')\n",
    "p.circle(x, x, legend_label='y=x', fill_color='green', size=5)\n",
    "p.line(x, y2, legend_label='y=cos(x)', line_width=3, line_color='red')\n",
    "p.triangle(x, x**2, color='black', legend_label='y=x^2')\n",
    "show(p)"
   ]
  },
  {
   "cell_type": "code",
   "execution_count": null,
   "metadata": {},
   "outputs": [],
   "source": []
  }
 ],
 "metadata": {
  "kernelspec": {
   "display_name": "Python 3",
   "language": "python",
   "name": "python3"
  },
  "language_info": {
   "codemirror_mode": {
    "name": "ipython",
    "version": 3
   },
   "file_extension": ".py",
   "mimetype": "text/x-python",
   "name": "python",
   "nbconvert_exporter": "python",
   "pygments_lexer": "ipython3",
   "version": "3.12.4"
  }
 },
 "nbformat": 4,
 "nbformat_minor": 2
}
