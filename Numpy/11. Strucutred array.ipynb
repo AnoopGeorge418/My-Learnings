{
 "cells": [
  {
   "cell_type": "code",
   "execution_count": 1,
   "metadata": {},
   "outputs": [],
   "source": [
    "import numpy as np"
   ]
  },
  {
   "cell_type": "code",
   "execution_count": 3,
   "metadata": {},
   "outputs": [],
   "source": [
    "X = np.array([('ABC1', 'DUV001', 90, 3.78), \n",
    "             ('ABC2', 'DUV002', 70, 2.81)],\n",
    "             dtype=[('Name', 'U20'), \n",
    "                    ('Id', 'U10'),\n",
    "                    ('Marks', 'i8'), \n",
    "                    ('Gpa', 'f4')])"
   ]
  },
  {
   "cell_type": "code",
   "execution_count": 4,
   "metadata": {},
   "outputs": [
    {
     "data": {
      "text/plain": [
       "array(['ABC1', 'ABC2'], dtype='<U20')"
      ]
     },
     "execution_count": 4,
     "metadata": {},
     "output_type": "execute_result"
    }
   ],
   "source": [
    "X['Name']"
   ]
  },
  {
   "cell_type": "code",
   "execution_count": 5,
   "metadata": {},
   "outputs": [
    {
     "data": {
      "text/plain": [
       "array([('ABC1', 3.78), ('ABC2', 2.81)],\n",
       "      dtype={'names': ['Name', 'Gpa'], 'formats': ['<U20', '<f4'], 'offsets': [0, 128], 'itemsize': 132})"
      ]
     },
     "execution_count": 5,
     "metadata": {},
     "output_type": "execute_result"
    }
   ],
   "source": [
    "X[['Name', 'Gpa']]"
   ]
  },
  {
   "cell_type": "code",
   "execution_count": 6,
   "metadata": {},
   "outputs": [],
   "source": [
    "x = np.array([('Permanent', 30, '2000', 100000),\n",
    "              ('Not Permanent', 25, '2010', 50000),\n",
    "              ('Permanent', 22, '2002', 500000)],\n",
    "             dtype=[('EmployeeType', 'U20'),\n",
    "                    ('Age', 'i8'), \n",
    "                    ('BirthYear', 'U10'),\n",
    "                    ('Salary', 'i8')])"
   ]
  },
  {
   "cell_type": "code",
   "execution_count": 8,
   "metadata": {},
   "outputs": [
    {
     "data": {
      "text/plain": [
       "array(['Permanent', 'Not Permanent', 'Permanent'], dtype='<U20')"
      ]
     },
     "execution_count": 8,
     "metadata": {},
     "output_type": "execute_result"
    }
   ],
   "source": [
    "x['EmployeeType']"
   ]
  },
  {
   "cell_type": "code",
   "execution_count": 9,
   "metadata": {},
   "outputs": [
    {
     "data": {
      "text/plain": [
       "array([30, 25, 22], dtype=int64)"
      ]
     },
     "execution_count": 9,
     "metadata": {},
     "output_type": "execute_result"
    }
   ],
   "source": [
    "x['Age']"
   ]
  },
  {
   "cell_type": "code",
   "execution_count": 11,
   "metadata": {},
   "outputs": [
    {
     "data": {
      "text/plain": [
       "array([('Permanent', 30, '2000', 100000),\n",
       "       ('Not Permanent', 25, '2010',  50000),\n",
       "       ('Permanent', 22, '2002', 500000)],\n",
       "      dtype=[('EmployeeType', '<U20'), ('Age', '<i8'), ('BirthYear', '<U10'), ('Salary', '<i8')])"
      ]
     },
     "execution_count": 11,
     "metadata": {},
     "output_type": "execute_result"
    }
   ],
   "source": [
    "x[['EmployeeType', 'Age', 'BirthYear', 'Salary']]"
   ]
  }
 ],
 "metadata": {
  "kernelspec": {
   "display_name": "Python 3",
   "language": "python",
   "name": "python3"
  },
  "language_info": {
   "codemirror_mode": {
    "name": "ipython",
    "version": 3
   },
   "file_extension": ".py",
   "mimetype": "text/x-python",
   "name": "python",
   "nbconvert_exporter": "python",
   "pygments_lexer": "ipython3",
   "version": "3.12.4"
  }
 },
 "nbformat": 4,
 "nbformat_minor": 2
}
